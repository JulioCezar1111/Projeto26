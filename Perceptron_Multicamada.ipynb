{
  "nbformat": 4,
  "nbformat_minor": 0,
  "metadata": {
    "colab": {
      "name": "Perceptron_Multicamada.ipynb",
      "provenance": [],
      "collapsed_sections": [
        "nH8YI57GLiNK",
        "weFSxxKzO_MK",
        "YjfZFMKZPW-A",
        "AvDXoRvWQdfs",
        "JlkezHdRSXfs",
        "reyPAVFCULBX",
        "R1r_IQEoalEZ"
      ],
      "authorship_tag": "ABX9TyMT0De4TTI6SqVBJjk7ahh1",
      "include_colab_link": true
    },
    "kernelspec": {
      "name": "python3",
      "display_name": "Python 3"
    },
    "language_info": {
      "name": "python"
    }
  },
  "cells": [
    {
      "cell_type": "markdown",
      "metadata": {
        "id": "view-in-github",
        "colab_type": "text"
      },
      "source": [
        "<a href=\"https://colab.research.google.com/github/JulioCezar1111/Projeto26/blob/main/Perceptron_Multicamada.ipynb\" target=\"_parent\"><img src=\"https://colab.research.google.com/assets/colab-badge.svg\" alt=\"Open In Colab\"/></a>"
      ]
    },
    {
      "cell_type": "markdown",
      "source": [
        "\n",
        "\n",
        "# **Importar Bibliotecas**\n"
      ],
      "metadata": {
        "id": "nH8YI57GLiNK"
      }
    },
    {
      "cell_type": "code",
      "execution_count": null,
      "metadata": {
        "id": "yYdacsuILHn4"
      },
      "outputs": [],
      "source": [
        "import numpy as np\n",
        "import pandas as pd\n",
        "import tensorflow as tf # para redes neurais\n",
        "import sklearn as sk"
      ]
    },
    {
      "cell_type": "markdown",
      "source": [
        "# **Importar dataset**"
      ],
      "metadata": {
        "id": "weFSxxKzO_MK"
      }
    },
    {
      "cell_type": "code",
      "source": [
        "!wget https://raw.githubusercontent.com/lucaslattari/neural-network-series/main/06/stroke.csv"
      ],
      "metadata": {
        "colab": {
          "base_uri": "https://localhost:8080/"
        },
        "id": "wHQ3lF-zPKug",
        "outputId": "538e9351-e163-4472-c124-4378534f43b2"
      },
      "execution_count": null,
      "outputs": [
        {
          "output_type": "stream",
          "name": "stdout",
          "text": [
            "--2022-06-13 19:46:37--  https://raw.githubusercontent.com/lucaslattari/neural-network-series/main/06/stroke.csv\n",
            "Resolving raw.githubusercontent.com (raw.githubusercontent.com)... 185.199.108.133, 185.199.109.133, 185.199.110.133, ...\n",
            "Connecting to raw.githubusercontent.com (raw.githubusercontent.com)|185.199.108.133|:443... connected.\n",
            "HTTP request sent, awaiting response... 200 OK\n",
            "Length: 316971 (310K) [text/plain]\n",
            "Saving to: ‘stroke.csv.3’\n",
            "\n",
            "\rstroke.csv.3          0%[                    ]       0  --.-KB/s               \rstroke.csv.3        100%[===================>] 309.54K  --.-KB/s    in 0.006s  \n",
            "\n",
            "2022-06-13 19:46:37 (48.7 MB/s) - ‘stroke.csv.3’ saved [316971/316971]\n",
            "\n"
          ]
        }
      ]
    },
    {
      "cell_type": "markdown",
      "source": [
        "# **Importar Dataframe(pandas)**"
      ],
      "metadata": {
        "id": "YjfZFMKZPW-A"
      }
    },
    {
      "cell_type": "code",
      "source": [
        "df = pd.read_csv('/content/stroke.csv')\n",
        "\n",
        "display(df.head())"
      ],
      "metadata": {
        "colab": {
          "base_uri": "https://localhost:8080/"
        },
        "id": "pc9gntEMPcmo",
        "outputId": "f88a3ea6-3b1f-4a36-de8b-3c5fd546c785"
      },
      "execution_count": null,
      "outputs": [
        {
          "output_type": "display_data",
          "data": {
            "text/plain": [
              "      id  gender   age  hypertension  heart_disease ever_married  \\\n",
              "0   9046    Male  67.0             0              1          Yes   \n",
              "1  51676  Female  61.0             0              0          Yes   \n",
              "2  31112    Male  80.0             0              1          Yes   \n",
              "3  60182  Female  49.0             0              0          Yes   \n",
              "4   1665  Female  79.0             1              0          Yes   \n",
              "\n",
              "       work_type Residence_type  avg_glucose_level   bmi   smoking_status  \\\n",
              "0        Private          Urban             228.69  36.6  formerly smoked   \n",
              "1  Self-employed          Rural             202.21   NaN     never smoked   \n",
              "2        Private          Rural             105.92  32.5     never smoked   \n",
              "3        Private          Urban             171.23  34.4           smokes   \n",
              "4  Self-employed          Rural             174.12  24.0     never smoked   \n",
              "\n",
              "   stroke  \n",
              "0       1  \n",
              "1       1  \n",
              "2       1  \n",
              "3       1  \n",
              "4       1  "
            ],
            "text/html": [
              "\n",
              "  <div id=\"df-5214baa9-b1e3-4c16-8dd6-23890d2480a8\">\n",
              "    <div class=\"colab-df-container\">\n",
              "      <div>\n",
              "<style scoped>\n",
              "    .dataframe tbody tr th:only-of-type {\n",
              "        vertical-align: middle;\n",
              "    }\n",
              "\n",
              "    .dataframe tbody tr th {\n",
              "        vertical-align: top;\n",
              "    }\n",
              "\n",
              "    .dataframe thead th {\n",
              "        text-align: right;\n",
              "    }\n",
              "</style>\n",
              "<table border=\"1\" class=\"dataframe\">\n",
              "  <thead>\n",
              "    <tr style=\"text-align: right;\">\n",
              "      <th></th>\n",
              "      <th>id</th>\n",
              "      <th>gender</th>\n",
              "      <th>age</th>\n",
              "      <th>hypertension</th>\n",
              "      <th>heart_disease</th>\n",
              "      <th>ever_married</th>\n",
              "      <th>work_type</th>\n",
              "      <th>Residence_type</th>\n",
              "      <th>avg_glucose_level</th>\n",
              "      <th>bmi</th>\n",
              "      <th>smoking_status</th>\n",
              "      <th>stroke</th>\n",
              "    </tr>\n",
              "  </thead>\n",
              "  <tbody>\n",
              "    <tr>\n",
              "      <th>0</th>\n",
              "      <td>9046</td>\n",
              "      <td>Male</td>\n",
              "      <td>67.0</td>\n",
              "      <td>0</td>\n",
              "      <td>1</td>\n",
              "      <td>Yes</td>\n",
              "      <td>Private</td>\n",
              "      <td>Urban</td>\n",
              "      <td>228.69</td>\n",
              "      <td>36.6</td>\n",
              "      <td>formerly smoked</td>\n",
              "      <td>1</td>\n",
              "    </tr>\n",
              "    <tr>\n",
              "      <th>1</th>\n",
              "      <td>51676</td>\n",
              "      <td>Female</td>\n",
              "      <td>61.0</td>\n",
              "      <td>0</td>\n",
              "      <td>0</td>\n",
              "      <td>Yes</td>\n",
              "      <td>Self-employed</td>\n",
              "      <td>Rural</td>\n",
              "      <td>202.21</td>\n",
              "      <td>NaN</td>\n",
              "      <td>never smoked</td>\n",
              "      <td>1</td>\n",
              "    </tr>\n",
              "    <tr>\n",
              "      <th>2</th>\n",
              "      <td>31112</td>\n",
              "      <td>Male</td>\n",
              "      <td>80.0</td>\n",
              "      <td>0</td>\n",
              "      <td>1</td>\n",
              "      <td>Yes</td>\n",
              "      <td>Private</td>\n",
              "      <td>Rural</td>\n",
              "      <td>105.92</td>\n",
              "      <td>32.5</td>\n",
              "      <td>never smoked</td>\n",
              "      <td>1</td>\n",
              "    </tr>\n",
              "    <tr>\n",
              "      <th>3</th>\n",
              "      <td>60182</td>\n",
              "      <td>Female</td>\n",
              "      <td>49.0</td>\n",
              "      <td>0</td>\n",
              "      <td>0</td>\n",
              "      <td>Yes</td>\n",
              "      <td>Private</td>\n",
              "      <td>Urban</td>\n",
              "      <td>171.23</td>\n",
              "      <td>34.4</td>\n",
              "      <td>smokes</td>\n",
              "      <td>1</td>\n",
              "    </tr>\n",
              "    <tr>\n",
              "      <th>4</th>\n",
              "      <td>1665</td>\n",
              "      <td>Female</td>\n",
              "      <td>79.0</td>\n",
              "      <td>1</td>\n",
              "      <td>0</td>\n",
              "      <td>Yes</td>\n",
              "      <td>Self-employed</td>\n",
              "      <td>Rural</td>\n",
              "      <td>174.12</td>\n",
              "      <td>24.0</td>\n",
              "      <td>never smoked</td>\n",
              "      <td>1</td>\n",
              "    </tr>\n",
              "  </tbody>\n",
              "</table>\n",
              "</div>\n",
              "      <button class=\"colab-df-convert\" onclick=\"convertToInteractive('df-5214baa9-b1e3-4c16-8dd6-23890d2480a8')\"\n",
              "              title=\"Convert this dataframe to an interactive table.\"\n",
              "              style=\"display:none;\">\n",
              "        \n",
              "  <svg xmlns=\"http://www.w3.org/2000/svg\" height=\"24px\"viewBox=\"0 0 24 24\"\n",
              "       width=\"24px\">\n",
              "    <path d=\"M0 0h24v24H0V0z\" fill=\"none\"/>\n",
              "    <path d=\"M18.56 5.44l.94 2.06.94-2.06 2.06-.94-2.06-.94-.94-2.06-.94 2.06-2.06.94zm-11 1L8.5 8.5l.94-2.06 2.06-.94-2.06-.94L8.5 2.5l-.94 2.06-2.06.94zm10 10l.94 2.06.94-2.06 2.06-.94-2.06-.94-.94-2.06-.94 2.06-2.06.94z\"/><path d=\"M17.41 7.96l-1.37-1.37c-.4-.4-.92-.59-1.43-.59-.52 0-1.04.2-1.43.59L10.3 9.45l-7.72 7.72c-.78.78-.78 2.05 0 2.83L4 21.41c.39.39.9.59 1.41.59.51 0 1.02-.2 1.41-.59l7.78-7.78 2.81-2.81c.8-.78.8-2.07 0-2.86zM5.41 20L4 18.59l7.72-7.72 1.47 1.35L5.41 20z\"/>\n",
              "  </svg>\n",
              "      </button>\n",
              "      \n",
              "  <style>\n",
              "    .colab-df-container {\n",
              "      display:flex;\n",
              "      flex-wrap:wrap;\n",
              "      gap: 12px;\n",
              "    }\n",
              "\n",
              "    .colab-df-convert {\n",
              "      background-color: #E8F0FE;\n",
              "      border: none;\n",
              "      border-radius: 50%;\n",
              "      cursor: pointer;\n",
              "      display: none;\n",
              "      fill: #1967D2;\n",
              "      height: 32px;\n",
              "      padding: 0 0 0 0;\n",
              "      width: 32px;\n",
              "    }\n",
              "\n",
              "    .colab-df-convert:hover {\n",
              "      background-color: #E2EBFA;\n",
              "      box-shadow: 0px 1px 2px rgba(60, 64, 67, 0.3), 0px 1px 3px 1px rgba(60, 64, 67, 0.15);\n",
              "      fill: #174EA6;\n",
              "    }\n",
              "\n",
              "    [theme=dark] .colab-df-convert {\n",
              "      background-color: #3B4455;\n",
              "      fill: #D2E3FC;\n",
              "    }\n",
              "\n",
              "    [theme=dark] .colab-df-convert:hover {\n",
              "      background-color: #434B5C;\n",
              "      box-shadow: 0px 1px 3px 1px rgba(0, 0, 0, 0.15);\n",
              "      filter: drop-shadow(0px 1px 2px rgba(0, 0, 0, 0.3));\n",
              "      fill: #FFFFFF;\n",
              "    }\n",
              "  </style>\n",
              "\n",
              "      <script>\n",
              "        const buttonEl =\n",
              "          document.querySelector('#df-5214baa9-b1e3-4c16-8dd6-23890d2480a8 button.colab-df-convert');\n",
              "        buttonEl.style.display =\n",
              "          google.colab.kernel.accessAllowed ? 'block' : 'none';\n",
              "\n",
              "        async function convertToInteractive(key) {\n",
              "          const element = document.querySelector('#df-5214baa9-b1e3-4c16-8dd6-23890d2480a8');\n",
              "          const dataTable =\n",
              "            await google.colab.kernel.invokeFunction('convertToInteractive',\n",
              "                                                     [key], {});\n",
              "          if (!dataTable) return;\n",
              "\n",
              "          const docLinkHtml = 'Like what you see? Visit the ' +\n",
              "            '<a target=\"_blank\" href=https://colab.research.google.com/notebooks/data_table.ipynb>data table notebook</a>'\n",
              "            + ' to learn more about interactive tables.';\n",
              "          element.innerHTML = '';\n",
              "          dataTable['output_type'] = 'display_data';\n",
              "          await google.colab.output.renderOutput(dataTable, element);\n",
              "          const docLink = document.createElement('div');\n",
              "          docLink.innerHTML = docLinkHtml;\n",
              "          element.appendChild(docLink);\n",
              "        }\n",
              "      </script>\n",
              "    </div>\n",
              "  </div>\n",
              "  "
            ]
          },
          "metadata": {}
        }
      ]
    },
    {
      "cell_type": "markdown",
      "source": [
        "# **Tratar Dataframe**"
      ],
      "metadata": {
        "id": "AvDXoRvWQdfs"
      }
    },
    {
      "cell_type": "code",
      "source": [
        "print(df.info())\n",
        "df =  df.dropna()\n",
        "print(df.info())\n",
        "\n"
      ],
      "metadata": {
        "colab": {
          "base_uri": "https://localhost:8080/"
        },
        "id": "uuQ448D4Qo80",
        "outputId": "6dcb4228-3427-4109-ffbd-d8fe417f5524"
      },
      "execution_count": null,
      "outputs": [
        {
          "output_type": "stream",
          "name": "stdout",
          "text": [
            "<class 'pandas.core.frame.DataFrame'>\n",
            "RangeIndex: 5110 entries, 0 to 5109\n",
            "Data columns (total 12 columns):\n",
            " #   Column             Non-Null Count  Dtype  \n",
            "---  ------             --------------  -----  \n",
            " 0   id                 5110 non-null   int64  \n",
            " 1   gender             5110 non-null   object \n",
            " 2   age                5110 non-null   float64\n",
            " 3   hypertension       5110 non-null   int64  \n",
            " 4   heart_disease      5110 non-null   int64  \n",
            " 5   ever_married       5110 non-null   object \n",
            " 6   work_type          5110 non-null   object \n",
            " 7   Residence_type     5110 non-null   object \n",
            " 8   avg_glucose_level  5110 non-null   float64\n",
            " 9   bmi                4909 non-null   float64\n",
            " 10  smoking_status     5110 non-null   object \n",
            " 11  stroke             5110 non-null   int64  \n",
            "dtypes: float64(3), int64(4), object(5)\n",
            "memory usage: 479.2+ KB\n",
            "None\n",
            "<class 'pandas.core.frame.DataFrame'>\n",
            "Int64Index: 4909 entries, 0 to 5109\n",
            "Data columns (total 12 columns):\n",
            " #   Column             Non-Null Count  Dtype  \n",
            "---  ------             --------------  -----  \n",
            " 0   id                 4909 non-null   int64  \n",
            " 1   gender             4909 non-null   object \n",
            " 2   age                4909 non-null   float64\n",
            " 3   hypertension       4909 non-null   int64  \n",
            " 4   heart_disease      4909 non-null   int64  \n",
            " 5   ever_married       4909 non-null   object \n",
            " 6   work_type          4909 non-null   object \n",
            " 7   Residence_type     4909 non-null   object \n",
            " 8   avg_glucose_level  4909 non-null   float64\n",
            " 9   bmi                4909 non-null   float64\n",
            " 10  smoking_status     4909 non-null   object \n",
            " 11  stroke             4909 non-null   int64  \n",
            "dtypes: float64(3), int64(4), object(5)\n",
            "memory usage: 498.6+ KB\n",
            "None\n"
          ]
        }
      ]
    },
    {
      "cell_type": "markdown",
      "source": [
        "# **Separação dos dados em x(variaveis independentes) e y(variavel dependentes)**"
      ],
      "metadata": {
        "id": "JlkezHdRSXfs"
      }
    },
    {
      "cell_type": "code",
      "source": [
        "x = df.iloc[:, 1: -1]\n",
        "y = df.iloc[:, -1]\n",
        "\n",
        "\n",
        "display(x)"
      ],
      "metadata": {
        "colab": {
          "base_uri": "https://localhost:8080/"
        },
        "id": "vszFuo8MSa-N",
        "outputId": "d92f5592-87fd-4ea2-fe9d-29c28a189b0d"
      },
      "execution_count": null,
      "outputs": [
        {
          "output_type": "display_data",
          "data": {
            "text/plain": [
              "      gender   age  hypertension  heart_disease ever_married      work_type  \\\n",
              "0       Male  67.0             0              1          Yes        Private   \n",
              "2       Male  80.0             0              1          Yes        Private   \n",
              "3     Female  49.0             0              0          Yes        Private   \n",
              "4     Female  79.0             1              0          Yes  Self-employed   \n",
              "5       Male  81.0             0              0          Yes        Private   \n",
              "...      ...   ...           ...            ...          ...            ...   \n",
              "5104  Female  13.0             0              0           No       children   \n",
              "5106  Female  81.0             0              0          Yes  Self-employed   \n",
              "5107  Female  35.0             0              0          Yes  Self-employed   \n",
              "5108    Male  51.0             0              0          Yes        Private   \n",
              "5109  Female  44.0             0              0          Yes       Govt_job   \n",
              "\n",
              "     Residence_type  avg_glucose_level   bmi   smoking_status  \n",
              "0             Urban             228.69  36.6  formerly smoked  \n",
              "2             Rural             105.92  32.5     never smoked  \n",
              "3             Urban             171.23  34.4           smokes  \n",
              "4             Rural             174.12  24.0     never smoked  \n",
              "5             Urban             186.21  29.0  formerly smoked  \n",
              "...             ...                ...   ...              ...  \n",
              "5104          Rural             103.08  18.6          Unknown  \n",
              "5106          Urban             125.20  40.0     never smoked  \n",
              "5107          Rural              82.99  30.6     never smoked  \n",
              "5108          Rural             166.29  25.6  formerly smoked  \n",
              "5109          Urban              85.28  26.2          Unknown  \n",
              "\n",
              "[4909 rows x 10 columns]"
            ],
            "text/html": [
              "\n",
              "  <div id=\"df-4c0e4d69-92e7-470d-9fc3-0a27a7f05fb4\">\n",
              "    <div class=\"colab-df-container\">\n",
              "      <div>\n",
              "<style scoped>\n",
              "    .dataframe tbody tr th:only-of-type {\n",
              "        vertical-align: middle;\n",
              "    }\n",
              "\n",
              "    .dataframe tbody tr th {\n",
              "        vertical-align: top;\n",
              "    }\n",
              "\n",
              "    .dataframe thead th {\n",
              "        text-align: right;\n",
              "    }\n",
              "</style>\n",
              "<table border=\"1\" class=\"dataframe\">\n",
              "  <thead>\n",
              "    <tr style=\"text-align: right;\">\n",
              "      <th></th>\n",
              "      <th>gender</th>\n",
              "      <th>age</th>\n",
              "      <th>hypertension</th>\n",
              "      <th>heart_disease</th>\n",
              "      <th>ever_married</th>\n",
              "      <th>work_type</th>\n",
              "      <th>Residence_type</th>\n",
              "      <th>avg_glucose_level</th>\n",
              "      <th>bmi</th>\n",
              "      <th>smoking_status</th>\n",
              "    </tr>\n",
              "  </thead>\n",
              "  <tbody>\n",
              "    <tr>\n",
              "      <th>0</th>\n",
              "      <td>Male</td>\n",
              "      <td>67.0</td>\n",
              "      <td>0</td>\n",
              "      <td>1</td>\n",
              "      <td>Yes</td>\n",
              "      <td>Private</td>\n",
              "      <td>Urban</td>\n",
              "      <td>228.69</td>\n",
              "      <td>36.6</td>\n",
              "      <td>formerly smoked</td>\n",
              "    </tr>\n",
              "    <tr>\n",
              "      <th>2</th>\n",
              "      <td>Male</td>\n",
              "      <td>80.0</td>\n",
              "      <td>0</td>\n",
              "      <td>1</td>\n",
              "      <td>Yes</td>\n",
              "      <td>Private</td>\n",
              "      <td>Rural</td>\n",
              "      <td>105.92</td>\n",
              "      <td>32.5</td>\n",
              "      <td>never smoked</td>\n",
              "    </tr>\n",
              "    <tr>\n",
              "      <th>3</th>\n",
              "      <td>Female</td>\n",
              "      <td>49.0</td>\n",
              "      <td>0</td>\n",
              "      <td>0</td>\n",
              "      <td>Yes</td>\n",
              "      <td>Private</td>\n",
              "      <td>Urban</td>\n",
              "      <td>171.23</td>\n",
              "      <td>34.4</td>\n",
              "      <td>smokes</td>\n",
              "    </tr>\n",
              "    <tr>\n",
              "      <th>4</th>\n",
              "      <td>Female</td>\n",
              "      <td>79.0</td>\n",
              "      <td>1</td>\n",
              "      <td>0</td>\n",
              "      <td>Yes</td>\n",
              "      <td>Self-employed</td>\n",
              "      <td>Rural</td>\n",
              "      <td>174.12</td>\n",
              "      <td>24.0</td>\n",
              "      <td>never smoked</td>\n",
              "    </tr>\n",
              "    <tr>\n",
              "      <th>5</th>\n",
              "      <td>Male</td>\n",
              "      <td>81.0</td>\n",
              "      <td>0</td>\n",
              "      <td>0</td>\n",
              "      <td>Yes</td>\n",
              "      <td>Private</td>\n",
              "      <td>Urban</td>\n",
              "      <td>186.21</td>\n",
              "      <td>29.0</td>\n",
              "      <td>formerly smoked</td>\n",
              "    </tr>\n",
              "    <tr>\n",
              "      <th>...</th>\n",
              "      <td>...</td>\n",
              "      <td>...</td>\n",
              "      <td>...</td>\n",
              "      <td>...</td>\n",
              "      <td>...</td>\n",
              "      <td>...</td>\n",
              "      <td>...</td>\n",
              "      <td>...</td>\n",
              "      <td>...</td>\n",
              "      <td>...</td>\n",
              "    </tr>\n",
              "    <tr>\n",
              "      <th>5104</th>\n",
              "      <td>Female</td>\n",
              "      <td>13.0</td>\n",
              "      <td>0</td>\n",
              "      <td>0</td>\n",
              "      <td>No</td>\n",
              "      <td>children</td>\n",
              "      <td>Rural</td>\n",
              "      <td>103.08</td>\n",
              "      <td>18.6</td>\n",
              "      <td>Unknown</td>\n",
              "    </tr>\n",
              "    <tr>\n",
              "      <th>5106</th>\n",
              "      <td>Female</td>\n",
              "      <td>81.0</td>\n",
              "      <td>0</td>\n",
              "      <td>0</td>\n",
              "      <td>Yes</td>\n",
              "      <td>Self-employed</td>\n",
              "      <td>Urban</td>\n",
              "      <td>125.20</td>\n",
              "      <td>40.0</td>\n",
              "      <td>never smoked</td>\n",
              "    </tr>\n",
              "    <tr>\n",
              "      <th>5107</th>\n",
              "      <td>Female</td>\n",
              "      <td>35.0</td>\n",
              "      <td>0</td>\n",
              "      <td>0</td>\n",
              "      <td>Yes</td>\n",
              "      <td>Self-employed</td>\n",
              "      <td>Rural</td>\n",
              "      <td>82.99</td>\n",
              "      <td>30.6</td>\n",
              "      <td>never smoked</td>\n",
              "    </tr>\n",
              "    <tr>\n",
              "      <th>5108</th>\n",
              "      <td>Male</td>\n",
              "      <td>51.0</td>\n",
              "      <td>0</td>\n",
              "      <td>0</td>\n",
              "      <td>Yes</td>\n",
              "      <td>Private</td>\n",
              "      <td>Rural</td>\n",
              "      <td>166.29</td>\n",
              "      <td>25.6</td>\n",
              "      <td>formerly smoked</td>\n",
              "    </tr>\n",
              "    <tr>\n",
              "      <th>5109</th>\n",
              "      <td>Female</td>\n",
              "      <td>44.0</td>\n",
              "      <td>0</td>\n",
              "      <td>0</td>\n",
              "      <td>Yes</td>\n",
              "      <td>Govt_job</td>\n",
              "      <td>Urban</td>\n",
              "      <td>85.28</td>\n",
              "      <td>26.2</td>\n",
              "      <td>Unknown</td>\n",
              "    </tr>\n",
              "  </tbody>\n",
              "</table>\n",
              "<p>4909 rows × 10 columns</p>\n",
              "</div>\n",
              "      <button class=\"colab-df-convert\" onclick=\"convertToInteractive('df-4c0e4d69-92e7-470d-9fc3-0a27a7f05fb4')\"\n",
              "              title=\"Convert this dataframe to an interactive table.\"\n",
              "              style=\"display:none;\">\n",
              "        \n",
              "  <svg xmlns=\"http://www.w3.org/2000/svg\" height=\"24px\"viewBox=\"0 0 24 24\"\n",
              "       width=\"24px\">\n",
              "    <path d=\"M0 0h24v24H0V0z\" fill=\"none\"/>\n",
              "    <path d=\"M18.56 5.44l.94 2.06.94-2.06 2.06-.94-2.06-.94-.94-2.06-.94 2.06-2.06.94zm-11 1L8.5 8.5l.94-2.06 2.06-.94-2.06-.94L8.5 2.5l-.94 2.06-2.06.94zm10 10l.94 2.06.94-2.06 2.06-.94-2.06-.94-.94-2.06-.94 2.06-2.06.94z\"/><path d=\"M17.41 7.96l-1.37-1.37c-.4-.4-.92-.59-1.43-.59-.52 0-1.04.2-1.43.59L10.3 9.45l-7.72 7.72c-.78.78-.78 2.05 0 2.83L4 21.41c.39.39.9.59 1.41.59.51 0 1.02-.2 1.41-.59l7.78-7.78 2.81-2.81c.8-.78.8-2.07 0-2.86zM5.41 20L4 18.59l7.72-7.72 1.47 1.35L5.41 20z\"/>\n",
              "  </svg>\n",
              "      </button>\n",
              "      \n",
              "  <style>\n",
              "    .colab-df-container {\n",
              "      display:flex;\n",
              "      flex-wrap:wrap;\n",
              "      gap: 12px;\n",
              "    }\n",
              "\n",
              "    .colab-df-convert {\n",
              "      background-color: #E8F0FE;\n",
              "      border: none;\n",
              "      border-radius: 50%;\n",
              "      cursor: pointer;\n",
              "      display: none;\n",
              "      fill: #1967D2;\n",
              "      height: 32px;\n",
              "      padding: 0 0 0 0;\n",
              "      width: 32px;\n",
              "    }\n",
              "\n",
              "    .colab-df-convert:hover {\n",
              "      background-color: #E2EBFA;\n",
              "      box-shadow: 0px 1px 2px rgba(60, 64, 67, 0.3), 0px 1px 3px 1px rgba(60, 64, 67, 0.15);\n",
              "      fill: #174EA6;\n",
              "    }\n",
              "\n",
              "    [theme=dark] .colab-df-convert {\n",
              "      background-color: #3B4455;\n",
              "      fill: #D2E3FC;\n",
              "    }\n",
              "\n",
              "    [theme=dark] .colab-df-convert:hover {\n",
              "      background-color: #434B5C;\n",
              "      box-shadow: 0px 1px 3px 1px rgba(0, 0, 0, 0.15);\n",
              "      filter: drop-shadow(0px 1px 2px rgba(0, 0, 0, 0.3));\n",
              "      fill: #FFFFFF;\n",
              "    }\n",
              "  </style>\n",
              "\n",
              "      <script>\n",
              "        const buttonEl =\n",
              "          document.querySelector('#df-4c0e4d69-92e7-470d-9fc3-0a27a7f05fb4 button.colab-df-convert');\n",
              "        buttonEl.style.display =\n",
              "          google.colab.kernel.accessAllowed ? 'block' : 'none';\n",
              "\n",
              "        async function convertToInteractive(key) {\n",
              "          const element = document.querySelector('#df-4c0e4d69-92e7-470d-9fc3-0a27a7f05fb4');\n",
              "          const dataTable =\n",
              "            await google.colab.kernel.invokeFunction('convertToInteractive',\n",
              "                                                     [key], {});\n",
              "          if (!dataTable) return;\n",
              "\n",
              "          const docLinkHtml = 'Like what you see? Visit the ' +\n",
              "            '<a target=\"_blank\" href=https://colab.research.google.com/notebooks/data_table.ipynb>data table notebook</a>'\n",
              "            + ' to learn more about interactive tables.';\n",
              "          element.innerHTML = '';\n",
              "          dataTable['output_type'] = 'display_data';\n",
              "          await google.colab.output.renderOutput(dataTable, element);\n",
              "          const docLink = document.createElement('div');\n",
              "          docLink.innerHTML = docLinkHtml;\n",
              "          element.appendChild(docLink);\n",
              "        }\n",
              "      </script>\n",
              "    </div>\n",
              "  </div>\n",
              "  "
            ]
          },
          "metadata": {}
        }
      ]
    },
    {
      "cell_type": "markdown",
      "source": [
        "# **Transformação das variaveis categorias em numerico(LabelEncoder e OneHotEncoder)**"
      ],
      "metadata": {
        "id": "reyPAVFCULBX"
      }
    },
    {
      "cell_type": "code",
      "source": [
        "x.dtypes"
      ],
      "metadata": {
        "colab": {
          "base_uri": "https://localhost:8080/"
        },
        "id": "eTryj1uFVrSQ",
        "outputId": "7489a6ee-f6c8-4f35-e219-d3415d0652ef"
      },
      "execution_count": null,
      "outputs": [
        {
          "output_type": "execute_result",
          "data": {
            "text/plain": [
              "gender                object\n",
              "age                  float64\n",
              "hypertension           int64\n",
              "heart_disease          int64\n",
              "ever_married          object\n",
              "work_type             object\n",
              "Residence_type        object\n",
              "avg_glucose_level    float64\n",
              "bmi                  float64\n",
              "smoking_status        object\n",
              "dtype: object"
            ]
          },
          "metadata": {},
          "execution_count": 127
        }
      ]
    },
    {
      "cell_type": "code",
      "source": [
        "x.gender.unique() # informa as opçoes na coluna"
      ],
      "metadata": {
        "colab": {
          "base_uri": "https://localhost:8080/"
        },
        "id": "GJmRM2KhU2sl",
        "outputId": "d44cf068-6e70-4dc9-b2de-bab698720380"
      },
      "execution_count": null,
      "outputs": [
        {
          "output_type": "execute_result",
          "data": {
            "text/plain": [
              "array(['Male', 'Female', 'Other'], dtype=object)"
            ]
          },
          "metadata": {},
          "execution_count": 128
        }
      ]
    },
    {
      "cell_type": "code",
      "source": [
        "from sklearn.preprocessing import LabelEncoder # converter categoria em numero\n",
        "\n",
        "cols = ['ever_married', 'Residence_type'] #unique pra descobrir quantos rótulos unicos\n",
        "le = LabelEncoder()\n",
        "x[cols] = x[cols].apply(le.fit_transform) # fit_transform aprende e transforma\n",
        "\n",
        "x.head(10)"
      ],
      "metadata": {
        "colab": {
          "base_uri": "https://localhost:8080/"
        },
        "id": "a5KP7DCQV7Qi",
        "outputId": "32329492-0053-4d21-cdcf-1c9b2d18fd09"
      },
      "execution_count": null,
      "outputs": [
        {
          "output_type": "execute_result",
          "data": {
            "text/plain": [
              "    gender   age  hypertension  heart_disease  ever_married      work_type  \\\n",
              "0     Male  67.0             0              1             1        Private   \n",
              "2     Male  80.0             0              1             1        Private   \n",
              "3   Female  49.0             0              0             1        Private   \n",
              "4   Female  79.0             1              0             1  Self-employed   \n",
              "5     Male  81.0             0              0             1        Private   \n",
              "6     Male  74.0             1              1             1        Private   \n",
              "7   Female  69.0             0              0             0        Private   \n",
              "9   Female  78.0             0              0             1        Private   \n",
              "10  Female  81.0             1              0             1        Private   \n",
              "11  Female  61.0             0              1             1       Govt_job   \n",
              "\n",
              "    Residence_type  avg_glucose_level   bmi   smoking_status  \n",
              "0                1             228.69  36.6  formerly smoked  \n",
              "2                0             105.92  32.5     never smoked  \n",
              "3                1             171.23  34.4           smokes  \n",
              "4                0             174.12  24.0     never smoked  \n",
              "5                1             186.21  29.0  formerly smoked  \n",
              "6                0              70.09  27.4     never smoked  \n",
              "7                1              94.39  22.8     never smoked  \n",
              "9                1              58.57  24.2          Unknown  \n",
              "10               0              80.43  29.7     never smoked  \n",
              "11               0             120.46  36.8           smokes  "
            ],
            "text/html": [
              "\n",
              "  <div id=\"df-ad34fd04-2ed2-4945-a771-da4e610bab5a\">\n",
              "    <div class=\"colab-df-container\">\n",
              "      <div>\n",
              "<style scoped>\n",
              "    .dataframe tbody tr th:only-of-type {\n",
              "        vertical-align: middle;\n",
              "    }\n",
              "\n",
              "    .dataframe tbody tr th {\n",
              "        vertical-align: top;\n",
              "    }\n",
              "\n",
              "    .dataframe thead th {\n",
              "        text-align: right;\n",
              "    }\n",
              "</style>\n",
              "<table border=\"1\" class=\"dataframe\">\n",
              "  <thead>\n",
              "    <tr style=\"text-align: right;\">\n",
              "      <th></th>\n",
              "      <th>gender</th>\n",
              "      <th>age</th>\n",
              "      <th>hypertension</th>\n",
              "      <th>heart_disease</th>\n",
              "      <th>ever_married</th>\n",
              "      <th>work_type</th>\n",
              "      <th>Residence_type</th>\n",
              "      <th>avg_glucose_level</th>\n",
              "      <th>bmi</th>\n",
              "      <th>smoking_status</th>\n",
              "    </tr>\n",
              "  </thead>\n",
              "  <tbody>\n",
              "    <tr>\n",
              "      <th>0</th>\n",
              "      <td>Male</td>\n",
              "      <td>67.0</td>\n",
              "      <td>0</td>\n",
              "      <td>1</td>\n",
              "      <td>1</td>\n",
              "      <td>Private</td>\n",
              "      <td>1</td>\n",
              "      <td>228.69</td>\n",
              "      <td>36.6</td>\n",
              "      <td>formerly smoked</td>\n",
              "    </tr>\n",
              "    <tr>\n",
              "      <th>2</th>\n",
              "      <td>Male</td>\n",
              "      <td>80.0</td>\n",
              "      <td>0</td>\n",
              "      <td>1</td>\n",
              "      <td>1</td>\n",
              "      <td>Private</td>\n",
              "      <td>0</td>\n",
              "      <td>105.92</td>\n",
              "      <td>32.5</td>\n",
              "      <td>never smoked</td>\n",
              "    </tr>\n",
              "    <tr>\n",
              "      <th>3</th>\n",
              "      <td>Female</td>\n",
              "      <td>49.0</td>\n",
              "      <td>0</td>\n",
              "      <td>0</td>\n",
              "      <td>1</td>\n",
              "      <td>Private</td>\n",
              "      <td>1</td>\n",
              "      <td>171.23</td>\n",
              "      <td>34.4</td>\n",
              "      <td>smokes</td>\n",
              "    </tr>\n",
              "    <tr>\n",
              "      <th>4</th>\n",
              "      <td>Female</td>\n",
              "      <td>79.0</td>\n",
              "      <td>1</td>\n",
              "      <td>0</td>\n",
              "      <td>1</td>\n",
              "      <td>Self-employed</td>\n",
              "      <td>0</td>\n",
              "      <td>174.12</td>\n",
              "      <td>24.0</td>\n",
              "      <td>never smoked</td>\n",
              "    </tr>\n",
              "    <tr>\n",
              "      <th>5</th>\n",
              "      <td>Male</td>\n",
              "      <td>81.0</td>\n",
              "      <td>0</td>\n",
              "      <td>0</td>\n",
              "      <td>1</td>\n",
              "      <td>Private</td>\n",
              "      <td>1</td>\n",
              "      <td>186.21</td>\n",
              "      <td>29.0</td>\n",
              "      <td>formerly smoked</td>\n",
              "    </tr>\n",
              "    <tr>\n",
              "      <th>6</th>\n",
              "      <td>Male</td>\n",
              "      <td>74.0</td>\n",
              "      <td>1</td>\n",
              "      <td>1</td>\n",
              "      <td>1</td>\n",
              "      <td>Private</td>\n",
              "      <td>0</td>\n",
              "      <td>70.09</td>\n",
              "      <td>27.4</td>\n",
              "      <td>never smoked</td>\n",
              "    </tr>\n",
              "    <tr>\n",
              "      <th>7</th>\n",
              "      <td>Female</td>\n",
              "      <td>69.0</td>\n",
              "      <td>0</td>\n",
              "      <td>0</td>\n",
              "      <td>0</td>\n",
              "      <td>Private</td>\n",
              "      <td>1</td>\n",
              "      <td>94.39</td>\n",
              "      <td>22.8</td>\n",
              "      <td>never smoked</td>\n",
              "    </tr>\n",
              "    <tr>\n",
              "      <th>9</th>\n",
              "      <td>Female</td>\n",
              "      <td>78.0</td>\n",
              "      <td>0</td>\n",
              "      <td>0</td>\n",
              "      <td>1</td>\n",
              "      <td>Private</td>\n",
              "      <td>1</td>\n",
              "      <td>58.57</td>\n",
              "      <td>24.2</td>\n",
              "      <td>Unknown</td>\n",
              "    </tr>\n",
              "    <tr>\n",
              "      <th>10</th>\n",
              "      <td>Female</td>\n",
              "      <td>81.0</td>\n",
              "      <td>1</td>\n",
              "      <td>0</td>\n",
              "      <td>1</td>\n",
              "      <td>Private</td>\n",
              "      <td>0</td>\n",
              "      <td>80.43</td>\n",
              "      <td>29.7</td>\n",
              "      <td>never smoked</td>\n",
              "    </tr>\n",
              "    <tr>\n",
              "      <th>11</th>\n",
              "      <td>Female</td>\n",
              "      <td>61.0</td>\n",
              "      <td>0</td>\n",
              "      <td>1</td>\n",
              "      <td>1</td>\n",
              "      <td>Govt_job</td>\n",
              "      <td>0</td>\n",
              "      <td>120.46</td>\n",
              "      <td>36.8</td>\n",
              "      <td>smokes</td>\n",
              "    </tr>\n",
              "  </tbody>\n",
              "</table>\n",
              "</div>\n",
              "      <button class=\"colab-df-convert\" onclick=\"convertToInteractive('df-ad34fd04-2ed2-4945-a771-da4e610bab5a')\"\n",
              "              title=\"Convert this dataframe to an interactive table.\"\n",
              "              style=\"display:none;\">\n",
              "        \n",
              "  <svg xmlns=\"http://www.w3.org/2000/svg\" height=\"24px\"viewBox=\"0 0 24 24\"\n",
              "       width=\"24px\">\n",
              "    <path d=\"M0 0h24v24H0V0z\" fill=\"none\"/>\n",
              "    <path d=\"M18.56 5.44l.94 2.06.94-2.06 2.06-.94-2.06-.94-.94-2.06-.94 2.06-2.06.94zm-11 1L8.5 8.5l.94-2.06 2.06-.94-2.06-.94L8.5 2.5l-.94 2.06-2.06.94zm10 10l.94 2.06.94-2.06 2.06-.94-2.06-.94-.94-2.06-.94 2.06-2.06.94z\"/><path d=\"M17.41 7.96l-1.37-1.37c-.4-.4-.92-.59-1.43-.59-.52 0-1.04.2-1.43.59L10.3 9.45l-7.72 7.72c-.78.78-.78 2.05 0 2.83L4 21.41c.39.39.9.59 1.41.59.51 0 1.02-.2 1.41-.59l7.78-7.78 2.81-2.81c.8-.78.8-2.07 0-2.86zM5.41 20L4 18.59l7.72-7.72 1.47 1.35L5.41 20z\"/>\n",
              "  </svg>\n",
              "      </button>\n",
              "      \n",
              "  <style>\n",
              "    .colab-df-container {\n",
              "      display:flex;\n",
              "      flex-wrap:wrap;\n",
              "      gap: 12px;\n",
              "    }\n",
              "\n",
              "    .colab-df-convert {\n",
              "      background-color: #E8F0FE;\n",
              "      border: none;\n",
              "      border-radius: 50%;\n",
              "      cursor: pointer;\n",
              "      display: none;\n",
              "      fill: #1967D2;\n",
              "      height: 32px;\n",
              "      padding: 0 0 0 0;\n",
              "      width: 32px;\n",
              "    }\n",
              "\n",
              "    .colab-df-convert:hover {\n",
              "      background-color: #E2EBFA;\n",
              "      box-shadow: 0px 1px 2px rgba(60, 64, 67, 0.3), 0px 1px 3px 1px rgba(60, 64, 67, 0.15);\n",
              "      fill: #174EA6;\n",
              "    }\n",
              "\n",
              "    [theme=dark] .colab-df-convert {\n",
              "      background-color: #3B4455;\n",
              "      fill: #D2E3FC;\n",
              "    }\n",
              "\n",
              "    [theme=dark] .colab-df-convert:hover {\n",
              "      background-color: #434B5C;\n",
              "      box-shadow: 0px 1px 3px 1px rgba(0, 0, 0, 0.15);\n",
              "      filter: drop-shadow(0px 1px 2px rgba(0, 0, 0, 0.3));\n",
              "      fill: #FFFFFF;\n",
              "    }\n",
              "  </style>\n",
              "\n",
              "      <script>\n",
              "        const buttonEl =\n",
              "          document.querySelector('#df-ad34fd04-2ed2-4945-a771-da4e610bab5a button.colab-df-convert');\n",
              "        buttonEl.style.display =\n",
              "          google.colab.kernel.accessAllowed ? 'block' : 'none';\n",
              "\n",
              "        async function convertToInteractive(key) {\n",
              "          const element = document.querySelector('#df-ad34fd04-2ed2-4945-a771-da4e610bab5a');\n",
              "          const dataTable =\n",
              "            await google.colab.kernel.invokeFunction('convertToInteractive',\n",
              "                                                     [key], {});\n",
              "          if (!dataTable) return;\n",
              "\n",
              "          const docLinkHtml = 'Like what you see? Visit the ' +\n",
              "            '<a target=\"_blank\" href=https://colab.research.google.com/notebooks/data_table.ipynb>data table notebook</a>'\n",
              "            + ' to learn more about interactive tables.';\n",
              "          element.innerHTML = '';\n",
              "          dataTable['output_type'] = 'display_data';\n",
              "          await google.colab.output.renderOutput(dataTable, element);\n",
              "          const docLink = document.createElement('div');\n",
              "          docLink.innerHTML = docLinkHtml;\n",
              "          element.appendChild(docLink);\n",
              "        }\n",
              "      </script>\n",
              "    </div>\n",
              "  </div>\n",
              "  "
            ]
          },
          "metadata": {},
          "execution_count": 129
        }
      ]
    },
    {
      "cell_type": "code",
      "source": [
        "from sklearn.compose import ColumnTransformer\n",
        "from sklearn.preprocessing import OneHotEncoder\n",
        "\n",
        "ct = ColumnTransformer(transformers = [('encoder', OneHotEncoder(), \n",
        "                                        ['gender', 'work_type', 'smoking_status'])], \n",
        "                                       remainder = 'passthrough')\n",
        "\n",
        "x = ct.fit_transform(x)\n",
        "\n",
        "x[0]"
      ],
      "metadata": {
        "colab": {
          "base_uri": "https://localhost:8080/"
        },
        "id": "mAgY1pcPXUe2",
        "outputId": "251e9db6-d563-463b-c739-526821c018b4"
      },
      "execution_count": null,
      "outputs": [
        {
          "output_type": "execute_result",
          "data": {
            "text/plain": [
              "array([  0.  ,   1.  ,   0.  ,   0.  ,   0.  ,   1.  ,   0.  ,   0.  ,\n",
              "         0.  ,   1.  ,   0.  ,   0.  ,  67.  ,   0.  ,   1.  ,   1.  ,\n",
              "         1.  , 228.69,  36.6 ])"
            ]
          },
          "metadata": {},
          "execution_count": 130
        }
      ]
    },
    {
      "cell_type": "code",
      "source": [
        "colunas = ['ohe1', 'ohe2', 'ohe3', 'ohe4', 'ohe5', 'ohe6', 'ohe7', 'ohe8', 'ohe9', 'ohe10', 'ohe11', \n",
        "           'ohe12', 'age', 'hypertension', 'heart_disease', 'ever_married', 'Residence_type', \n",
        "           'avg_glucose_level', 'bmi']\n",
        "\n",
        "pd.DataFrame(x, columns = colunas)"
      ],
      "metadata": {
        "colab": {
          "base_uri": "https://localhost:8080/"
        },
        "id": "n5UeucdkZ2U6",
        "outputId": "037c0746-4332-423d-9f0a-0defd8ef20d9"
      },
      "execution_count": null,
      "outputs": [
        {
          "output_type": "execute_result",
          "data": {
            "text/plain": [
              "      ohe1  ohe2  ohe3  ohe4  ohe5  ohe6  ohe7  ohe8  ohe9  ohe10  ohe11  \\\n",
              "0      0.0   1.0   0.0   0.0   0.0   1.0   0.0   0.0   0.0    1.0    0.0   \n",
              "1      0.0   1.0   0.0   0.0   0.0   1.0   0.0   0.0   0.0    0.0    1.0   \n",
              "2      1.0   0.0   0.0   0.0   0.0   1.0   0.0   0.0   0.0    0.0    0.0   \n",
              "3      1.0   0.0   0.0   0.0   0.0   0.0   1.0   0.0   0.0    0.0    1.0   \n",
              "4      0.0   1.0   0.0   0.0   0.0   1.0   0.0   0.0   0.0    1.0    0.0   \n",
              "...    ...   ...   ...   ...   ...   ...   ...   ...   ...    ...    ...   \n",
              "4904   1.0   0.0   0.0   0.0   0.0   0.0   0.0   1.0   1.0    0.0    0.0   \n",
              "4905   1.0   0.0   0.0   0.0   0.0   0.0   1.0   0.0   0.0    0.0    1.0   \n",
              "4906   1.0   0.0   0.0   0.0   0.0   0.0   1.0   0.0   0.0    0.0    1.0   \n",
              "4907   0.0   1.0   0.0   0.0   0.0   1.0   0.0   0.0   0.0    1.0    0.0   \n",
              "4908   1.0   0.0   0.0   1.0   0.0   0.0   0.0   0.0   1.0    0.0    0.0   \n",
              "\n",
              "      ohe12   age  hypertension  heart_disease  ever_married  Residence_type  \\\n",
              "0       0.0  67.0           0.0            1.0           1.0             1.0   \n",
              "1       0.0  80.0           0.0            1.0           1.0             0.0   \n",
              "2       1.0  49.0           0.0            0.0           1.0             1.0   \n",
              "3       0.0  79.0           1.0            0.0           1.0             0.0   \n",
              "4       0.0  81.0           0.0            0.0           1.0             1.0   \n",
              "...     ...   ...           ...            ...           ...             ...   \n",
              "4904    0.0  13.0           0.0            0.0           0.0             0.0   \n",
              "4905    0.0  81.0           0.0            0.0           1.0             1.0   \n",
              "4906    0.0  35.0           0.0            0.0           1.0             0.0   \n",
              "4907    0.0  51.0           0.0            0.0           1.0             0.0   \n",
              "4908    0.0  44.0           0.0            0.0           1.0             1.0   \n",
              "\n",
              "      avg_glucose_level   bmi  \n",
              "0                228.69  36.6  \n",
              "1                105.92  32.5  \n",
              "2                171.23  34.4  \n",
              "3                174.12  24.0  \n",
              "4                186.21  29.0  \n",
              "...                 ...   ...  \n",
              "4904             103.08  18.6  \n",
              "4905             125.20  40.0  \n",
              "4906              82.99  30.6  \n",
              "4907             166.29  25.6  \n",
              "4908              85.28  26.2  \n",
              "\n",
              "[4909 rows x 19 columns]"
            ],
            "text/html": [
              "\n",
              "  <div id=\"df-8a66ea8a-b39f-4591-8ded-03924d834f5a\">\n",
              "    <div class=\"colab-df-container\">\n",
              "      <div>\n",
              "<style scoped>\n",
              "    .dataframe tbody tr th:only-of-type {\n",
              "        vertical-align: middle;\n",
              "    }\n",
              "\n",
              "    .dataframe tbody tr th {\n",
              "        vertical-align: top;\n",
              "    }\n",
              "\n",
              "    .dataframe thead th {\n",
              "        text-align: right;\n",
              "    }\n",
              "</style>\n",
              "<table border=\"1\" class=\"dataframe\">\n",
              "  <thead>\n",
              "    <tr style=\"text-align: right;\">\n",
              "      <th></th>\n",
              "      <th>ohe1</th>\n",
              "      <th>ohe2</th>\n",
              "      <th>ohe3</th>\n",
              "      <th>ohe4</th>\n",
              "      <th>ohe5</th>\n",
              "      <th>ohe6</th>\n",
              "      <th>ohe7</th>\n",
              "      <th>ohe8</th>\n",
              "      <th>ohe9</th>\n",
              "      <th>ohe10</th>\n",
              "      <th>ohe11</th>\n",
              "      <th>ohe12</th>\n",
              "      <th>age</th>\n",
              "      <th>hypertension</th>\n",
              "      <th>heart_disease</th>\n",
              "      <th>ever_married</th>\n",
              "      <th>Residence_type</th>\n",
              "      <th>avg_glucose_level</th>\n",
              "      <th>bmi</th>\n",
              "    </tr>\n",
              "  </thead>\n",
              "  <tbody>\n",
              "    <tr>\n",
              "      <th>0</th>\n",
              "      <td>0.0</td>\n",
              "      <td>1.0</td>\n",
              "      <td>0.0</td>\n",
              "      <td>0.0</td>\n",
              "      <td>0.0</td>\n",
              "      <td>1.0</td>\n",
              "      <td>0.0</td>\n",
              "      <td>0.0</td>\n",
              "      <td>0.0</td>\n",
              "      <td>1.0</td>\n",
              "      <td>0.0</td>\n",
              "      <td>0.0</td>\n",
              "      <td>67.0</td>\n",
              "      <td>0.0</td>\n",
              "      <td>1.0</td>\n",
              "      <td>1.0</td>\n",
              "      <td>1.0</td>\n",
              "      <td>228.69</td>\n",
              "      <td>36.6</td>\n",
              "    </tr>\n",
              "    <tr>\n",
              "      <th>1</th>\n",
              "      <td>0.0</td>\n",
              "      <td>1.0</td>\n",
              "      <td>0.0</td>\n",
              "      <td>0.0</td>\n",
              "      <td>0.0</td>\n",
              "      <td>1.0</td>\n",
              "      <td>0.0</td>\n",
              "      <td>0.0</td>\n",
              "      <td>0.0</td>\n",
              "      <td>0.0</td>\n",
              "      <td>1.0</td>\n",
              "      <td>0.0</td>\n",
              "      <td>80.0</td>\n",
              "      <td>0.0</td>\n",
              "      <td>1.0</td>\n",
              "      <td>1.0</td>\n",
              "      <td>0.0</td>\n",
              "      <td>105.92</td>\n",
              "      <td>32.5</td>\n",
              "    </tr>\n",
              "    <tr>\n",
              "      <th>2</th>\n",
              "      <td>1.0</td>\n",
              "      <td>0.0</td>\n",
              "      <td>0.0</td>\n",
              "      <td>0.0</td>\n",
              "      <td>0.0</td>\n",
              "      <td>1.0</td>\n",
              "      <td>0.0</td>\n",
              "      <td>0.0</td>\n",
              "      <td>0.0</td>\n",
              "      <td>0.0</td>\n",
              "      <td>0.0</td>\n",
              "      <td>1.0</td>\n",
              "      <td>49.0</td>\n",
              "      <td>0.0</td>\n",
              "      <td>0.0</td>\n",
              "      <td>1.0</td>\n",
              "      <td>1.0</td>\n",
              "      <td>171.23</td>\n",
              "      <td>34.4</td>\n",
              "    </tr>\n",
              "    <tr>\n",
              "      <th>3</th>\n",
              "      <td>1.0</td>\n",
              "      <td>0.0</td>\n",
              "      <td>0.0</td>\n",
              "      <td>0.0</td>\n",
              "      <td>0.0</td>\n",
              "      <td>0.0</td>\n",
              "      <td>1.0</td>\n",
              "      <td>0.0</td>\n",
              "      <td>0.0</td>\n",
              "      <td>0.0</td>\n",
              "      <td>1.0</td>\n",
              "      <td>0.0</td>\n",
              "      <td>79.0</td>\n",
              "      <td>1.0</td>\n",
              "      <td>0.0</td>\n",
              "      <td>1.0</td>\n",
              "      <td>0.0</td>\n",
              "      <td>174.12</td>\n",
              "      <td>24.0</td>\n",
              "    </tr>\n",
              "    <tr>\n",
              "      <th>4</th>\n",
              "      <td>0.0</td>\n",
              "      <td>1.0</td>\n",
              "      <td>0.0</td>\n",
              "      <td>0.0</td>\n",
              "      <td>0.0</td>\n",
              "      <td>1.0</td>\n",
              "      <td>0.0</td>\n",
              "      <td>0.0</td>\n",
              "      <td>0.0</td>\n",
              "      <td>1.0</td>\n",
              "      <td>0.0</td>\n",
              "      <td>0.0</td>\n",
              "      <td>81.0</td>\n",
              "      <td>0.0</td>\n",
              "      <td>0.0</td>\n",
              "      <td>1.0</td>\n",
              "      <td>1.0</td>\n",
              "      <td>186.21</td>\n",
              "      <td>29.0</td>\n",
              "    </tr>\n",
              "    <tr>\n",
              "      <th>...</th>\n",
              "      <td>...</td>\n",
              "      <td>...</td>\n",
              "      <td>...</td>\n",
              "      <td>...</td>\n",
              "      <td>...</td>\n",
              "      <td>...</td>\n",
              "      <td>...</td>\n",
              "      <td>...</td>\n",
              "      <td>...</td>\n",
              "      <td>...</td>\n",
              "      <td>...</td>\n",
              "      <td>...</td>\n",
              "      <td>...</td>\n",
              "      <td>...</td>\n",
              "      <td>...</td>\n",
              "      <td>...</td>\n",
              "      <td>...</td>\n",
              "      <td>...</td>\n",
              "      <td>...</td>\n",
              "    </tr>\n",
              "    <tr>\n",
              "      <th>4904</th>\n",
              "      <td>1.0</td>\n",
              "      <td>0.0</td>\n",
              "      <td>0.0</td>\n",
              "      <td>0.0</td>\n",
              "      <td>0.0</td>\n",
              "      <td>0.0</td>\n",
              "      <td>0.0</td>\n",
              "      <td>1.0</td>\n",
              "      <td>1.0</td>\n",
              "      <td>0.0</td>\n",
              "      <td>0.0</td>\n",
              "      <td>0.0</td>\n",
              "      <td>13.0</td>\n",
              "      <td>0.0</td>\n",
              "      <td>0.0</td>\n",
              "      <td>0.0</td>\n",
              "      <td>0.0</td>\n",
              "      <td>103.08</td>\n",
              "      <td>18.6</td>\n",
              "    </tr>\n",
              "    <tr>\n",
              "      <th>4905</th>\n",
              "      <td>1.0</td>\n",
              "      <td>0.0</td>\n",
              "      <td>0.0</td>\n",
              "      <td>0.0</td>\n",
              "      <td>0.0</td>\n",
              "      <td>0.0</td>\n",
              "      <td>1.0</td>\n",
              "      <td>0.0</td>\n",
              "      <td>0.0</td>\n",
              "      <td>0.0</td>\n",
              "      <td>1.0</td>\n",
              "      <td>0.0</td>\n",
              "      <td>81.0</td>\n",
              "      <td>0.0</td>\n",
              "      <td>0.0</td>\n",
              "      <td>1.0</td>\n",
              "      <td>1.0</td>\n",
              "      <td>125.20</td>\n",
              "      <td>40.0</td>\n",
              "    </tr>\n",
              "    <tr>\n",
              "      <th>4906</th>\n",
              "      <td>1.0</td>\n",
              "      <td>0.0</td>\n",
              "      <td>0.0</td>\n",
              "      <td>0.0</td>\n",
              "      <td>0.0</td>\n",
              "      <td>0.0</td>\n",
              "      <td>1.0</td>\n",
              "      <td>0.0</td>\n",
              "      <td>0.0</td>\n",
              "      <td>0.0</td>\n",
              "      <td>1.0</td>\n",
              "      <td>0.0</td>\n",
              "      <td>35.0</td>\n",
              "      <td>0.0</td>\n",
              "      <td>0.0</td>\n",
              "      <td>1.0</td>\n",
              "      <td>0.0</td>\n",
              "      <td>82.99</td>\n",
              "      <td>30.6</td>\n",
              "    </tr>\n",
              "    <tr>\n",
              "      <th>4907</th>\n",
              "      <td>0.0</td>\n",
              "      <td>1.0</td>\n",
              "      <td>0.0</td>\n",
              "      <td>0.0</td>\n",
              "      <td>0.0</td>\n",
              "      <td>1.0</td>\n",
              "      <td>0.0</td>\n",
              "      <td>0.0</td>\n",
              "      <td>0.0</td>\n",
              "      <td>1.0</td>\n",
              "      <td>0.0</td>\n",
              "      <td>0.0</td>\n",
              "      <td>51.0</td>\n",
              "      <td>0.0</td>\n",
              "      <td>0.0</td>\n",
              "      <td>1.0</td>\n",
              "      <td>0.0</td>\n",
              "      <td>166.29</td>\n",
              "      <td>25.6</td>\n",
              "    </tr>\n",
              "    <tr>\n",
              "      <th>4908</th>\n",
              "      <td>1.0</td>\n",
              "      <td>0.0</td>\n",
              "      <td>0.0</td>\n",
              "      <td>1.0</td>\n",
              "      <td>0.0</td>\n",
              "      <td>0.0</td>\n",
              "      <td>0.0</td>\n",
              "      <td>0.0</td>\n",
              "      <td>1.0</td>\n",
              "      <td>0.0</td>\n",
              "      <td>0.0</td>\n",
              "      <td>0.0</td>\n",
              "      <td>44.0</td>\n",
              "      <td>0.0</td>\n",
              "      <td>0.0</td>\n",
              "      <td>1.0</td>\n",
              "      <td>1.0</td>\n",
              "      <td>85.28</td>\n",
              "      <td>26.2</td>\n",
              "    </tr>\n",
              "  </tbody>\n",
              "</table>\n",
              "<p>4909 rows × 19 columns</p>\n",
              "</div>\n",
              "      <button class=\"colab-df-convert\" onclick=\"convertToInteractive('df-8a66ea8a-b39f-4591-8ded-03924d834f5a')\"\n",
              "              title=\"Convert this dataframe to an interactive table.\"\n",
              "              style=\"display:none;\">\n",
              "        \n",
              "  <svg xmlns=\"http://www.w3.org/2000/svg\" height=\"24px\"viewBox=\"0 0 24 24\"\n",
              "       width=\"24px\">\n",
              "    <path d=\"M0 0h24v24H0V0z\" fill=\"none\"/>\n",
              "    <path d=\"M18.56 5.44l.94 2.06.94-2.06 2.06-.94-2.06-.94-.94-2.06-.94 2.06-2.06.94zm-11 1L8.5 8.5l.94-2.06 2.06-.94-2.06-.94L8.5 2.5l-.94 2.06-2.06.94zm10 10l.94 2.06.94-2.06 2.06-.94-2.06-.94-.94-2.06-.94 2.06-2.06.94z\"/><path d=\"M17.41 7.96l-1.37-1.37c-.4-.4-.92-.59-1.43-.59-.52 0-1.04.2-1.43.59L10.3 9.45l-7.72 7.72c-.78.78-.78 2.05 0 2.83L4 21.41c.39.39.9.59 1.41.59.51 0 1.02-.2 1.41-.59l7.78-7.78 2.81-2.81c.8-.78.8-2.07 0-2.86zM5.41 20L4 18.59l7.72-7.72 1.47 1.35L5.41 20z\"/>\n",
              "  </svg>\n",
              "      </button>\n",
              "      \n",
              "  <style>\n",
              "    .colab-df-container {\n",
              "      display:flex;\n",
              "      flex-wrap:wrap;\n",
              "      gap: 12px;\n",
              "    }\n",
              "\n",
              "    .colab-df-convert {\n",
              "      background-color: #E8F0FE;\n",
              "      border: none;\n",
              "      border-radius: 50%;\n",
              "      cursor: pointer;\n",
              "      display: none;\n",
              "      fill: #1967D2;\n",
              "      height: 32px;\n",
              "      padding: 0 0 0 0;\n",
              "      width: 32px;\n",
              "    }\n",
              "\n",
              "    .colab-df-convert:hover {\n",
              "      background-color: #E2EBFA;\n",
              "      box-shadow: 0px 1px 2px rgba(60, 64, 67, 0.3), 0px 1px 3px 1px rgba(60, 64, 67, 0.15);\n",
              "      fill: #174EA6;\n",
              "    }\n",
              "\n",
              "    [theme=dark] .colab-df-convert {\n",
              "      background-color: #3B4455;\n",
              "      fill: #D2E3FC;\n",
              "    }\n",
              "\n",
              "    [theme=dark] .colab-df-convert:hover {\n",
              "      background-color: #434B5C;\n",
              "      box-shadow: 0px 1px 3px 1px rgba(0, 0, 0, 0.15);\n",
              "      filter: drop-shadow(0px 1px 2px rgba(0, 0, 0, 0.3));\n",
              "      fill: #FFFFFF;\n",
              "    }\n",
              "  </style>\n",
              "\n",
              "      <script>\n",
              "        const buttonEl =\n",
              "          document.querySelector('#df-8a66ea8a-b39f-4591-8ded-03924d834f5a button.colab-df-convert');\n",
              "        buttonEl.style.display =\n",
              "          google.colab.kernel.accessAllowed ? 'block' : 'none';\n",
              "\n",
              "        async function convertToInteractive(key) {\n",
              "          const element = document.querySelector('#df-8a66ea8a-b39f-4591-8ded-03924d834f5a');\n",
              "          const dataTable =\n",
              "            await google.colab.kernel.invokeFunction('convertToInteractive',\n",
              "                                                     [key], {});\n",
              "          if (!dataTable) return;\n",
              "\n",
              "          const docLinkHtml = 'Like what you see? Visit the ' +\n",
              "            '<a target=\"_blank\" href=https://colab.research.google.com/notebooks/data_table.ipynb>data table notebook</a>'\n",
              "            + ' to learn more about interactive tables.';\n",
              "          element.innerHTML = '';\n",
              "          dataTable['output_type'] = 'display_data';\n",
              "          await google.colab.output.renderOutput(dataTable, element);\n",
              "          const docLink = document.createElement('div');\n",
              "          docLink.innerHTML = docLinkHtml;\n",
              "          element.appendChild(docLink);\n",
              "        }\n",
              "      </script>\n",
              "    </div>\n",
              "  </div>\n",
              "  "
            ]
          },
          "metadata": {},
          "execution_count": 131
        }
      ]
    },
    {
      "cell_type": "markdown",
      "source": [
        "# **Dividir dataframe de treino e teste**"
      ],
      "metadata": {
        "id": "R1r_IQEoalEZ"
      }
    },
    {
      "cell_type": "code",
      "source": [
        "from sklearn.model_selection import train_test_split # para dividir o dataframe\n",
        "\n",
        "x_train, x_test, y_train, y_test = train_test_split(x, y, test_size = 0.2)"
      ],
      "metadata": {
        "id": "m-d5m382ar0k"
      },
      "execution_count": null,
      "outputs": []
    },
    {
      "cell_type": "markdown",
      "source": [
        "# **Normalizar os dados**"
      ],
      "metadata": {
        "id": "JHvx4g4CbHgU"
      }
    },
    {
      "cell_type": "code",
      "source": [
        "from sklearn.preprocessing import StandardScaler\n",
        "\n",
        "sc = StandardScaler()\n",
        "x_train = sc.fit_transform(x_train)\n",
        "x_test = sc.transform(x_test)\n",
        "\n",
        "x_train"
      ],
      "metadata": {
        "colab": {
          "base_uri": "https://localhost:8080/"
        },
        "id": "BxQE0MJ7bfgF",
        "outputId": "e7e4c01e-4a46-41cf-b922-2cf7f962d250"
      },
      "execution_count": null,
      "outputs": [
        {
          "output_type": "execute_result",
          "data": {
            "text/plain": [
              "array([[-1.18896793,  1.18959201, -0.0159597 , ..., -1.02084361,\n",
              "        -0.25589626, -1.1328738 ],\n",
              "       [-1.18896793,  1.18959201, -0.0159597 , ..., -1.02084361,\n",
              "         2.03209352, -0.19369085],\n",
              "       [ 0.84106558, -0.84062434, -0.0159597 , ...,  0.97958197,\n",
              "         0.09764347, -0.53636571],\n",
              "       ...,\n",
              "       [ 0.84106558, -0.84062434, -0.0159597 , ..., -1.02084361,\n",
              "        -0.21827144,  0.27590063],\n",
              "       [ 0.84106558, -0.84062434, -0.0159597 , ...,  0.97958197,\n",
              "        -0.27504262, -0.637899  ],\n",
              "       [ 0.84106558, -0.84062434, -0.0159597 , ...,  0.97958197,\n",
              "         0.01014906, -0.82827393]])"
            ]
          },
          "metadata": {},
          "execution_count": 133
        }
      ]
    },
    {
      "cell_type": "markdown",
      "source": [
        "# **Arquitetura de Rede Neural(MLP)**\n",
        "\n",
        "\n",
        "*   **otimizador : sgd**\n",
        "\n",
        "\n"
      ],
      "metadata": {
        "id": "7rpg_WRscPtO"
      }
    },
    {
      "cell_type": "code",
      "source": [
        "ann = tf.keras.models.Sequential()\n",
        " \n",
        "ann.add(tf.keras.layers.Dense(units=6, activation='relu', kernel_initializer='he_normal')) # 1º camada oculta\n",
        "\n",
        "ann.add(tf.keras.layers.Dense(units=6, activation='relu', kernel_initializer='he_normal')) # 2º camada oculta\n",
        "\n",
        "ann.add(tf.keras.layers.Dense(units=1, activation='sigmoid')) # Ultimo neuronio \n",
        "\n",
        "ann.compile(optimizer='sgd', loss='binary_crossentropy', metrics=['accuracy'])\n",
        "\n",
        "sgd = ann.fit(x_train, y_train, batch_size=32, epochs=50)"
      ],
      "metadata": {
        "colab": {
          "base_uri": "https://localhost:8080/"
        },
        "id": "5SIhvGV8cVKZ",
        "outputId": "7f007b3c-4d5f-44b2-f341-2f2259c4f13b"
      },
      "execution_count": null,
      "outputs": [
        {
          "output_type": "stream",
          "name": "stdout",
          "text": [
            "Epoch 1/50\n",
            "123/123 [==============================] - 1s 2ms/step - loss: 0.6463 - accuracy: 0.6903\n",
            "Epoch 2/50\n",
            "123/123 [==============================] - 0s 1ms/step - loss: 0.3132 - accuracy: 0.9554\n",
            "Epoch 3/50\n",
            "123/123 [==============================] - 0s 1ms/step - loss: 0.2406 - accuracy: 0.9572\n",
            "Epoch 4/50\n",
            "123/123 [==============================] - 0s 2ms/step - loss: 0.2141 - accuracy: 0.9572\n",
            "Epoch 5/50\n",
            "123/123 [==============================] - 0s 1ms/step - loss: 0.2014 - accuracy: 0.9572\n",
            "Epoch 6/50\n",
            "123/123 [==============================] - 0s 1ms/step - loss: 0.1939 - accuracy: 0.9572\n",
            "Epoch 7/50\n",
            "123/123 [==============================] - 0s 1ms/step - loss: 0.1886 - accuracy: 0.9572\n",
            "Epoch 8/50\n",
            "123/123 [==============================] - 0s 1ms/step - loss: 0.1846 - accuracy: 0.9572\n",
            "Epoch 9/50\n",
            "123/123 [==============================] - 0s 1ms/step - loss: 0.1814 - accuracy: 0.9572\n",
            "Epoch 10/50\n",
            "123/123 [==============================] - 0s 2ms/step - loss: 0.1787 - accuracy: 0.9572\n",
            "Epoch 11/50\n",
            "123/123 [==============================] - 0s 1ms/step - loss: 0.1765 - accuracy: 0.9572\n",
            "Epoch 12/50\n",
            "123/123 [==============================] - 0s 1ms/step - loss: 0.1746 - accuracy: 0.9572\n",
            "Epoch 13/50\n",
            "123/123 [==============================] - 0s 1ms/step - loss: 0.1728 - accuracy: 0.9572\n",
            "Epoch 14/50\n",
            "123/123 [==============================] - 0s 1ms/step - loss: 0.1713 - accuracy: 0.9572\n",
            "Epoch 15/50\n",
            "123/123 [==============================] - 0s 1ms/step - loss: 0.1698 - accuracy: 0.9572\n",
            "Epoch 16/50\n",
            "123/123 [==============================] - 0s 1ms/step - loss: 0.1685 - accuracy: 0.9572\n",
            "Epoch 17/50\n",
            "123/123 [==============================] - 0s 2ms/step - loss: 0.1673 - accuracy: 0.9572\n",
            "Epoch 18/50\n",
            "123/123 [==============================] - 0s 1ms/step - loss: 0.1661 - accuracy: 0.9572\n",
            "Epoch 19/50\n",
            "123/123 [==============================] - 0s 1ms/step - loss: 0.1651 - accuracy: 0.9572\n",
            "Epoch 20/50\n",
            "123/123 [==============================] - 0s 1ms/step - loss: 0.1642 - accuracy: 0.9572\n",
            "Epoch 21/50\n",
            "123/123 [==============================] - 0s 1ms/step - loss: 0.1634 - accuracy: 0.9572\n",
            "Epoch 22/50\n",
            "123/123 [==============================] - 0s 1ms/step - loss: 0.1626 - accuracy: 0.9572\n",
            "Epoch 23/50\n",
            "123/123 [==============================] - 0s 1ms/step - loss: 0.1618 - accuracy: 0.9572\n",
            "Epoch 24/50\n",
            "123/123 [==============================] - 0s 1ms/step - loss: 0.1611 - accuracy: 0.9572\n",
            "Epoch 25/50\n",
            "123/123 [==============================] - 0s 1ms/step - loss: 0.1604 - accuracy: 0.9572\n",
            "Epoch 26/50\n",
            "123/123 [==============================] - 0s 1ms/step - loss: 0.1597 - accuracy: 0.9572\n",
            "Epoch 27/50\n",
            "123/123 [==============================] - 0s 1ms/step - loss: 0.1591 - accuracy: 0.9572\n",
            "Epoch 28/50\n",
            "123/123 [==============================] - 0s 2ms/step - loss: 0.1585 - accuracy: 0.9572\n",
            "Epoch 29/50\n",
            "123/123 [==============================] - 0s 1ms/step - loss: 0.1580 - accuracy: 0.9572\n",
            "Epoch 30/50\n",
            "123/123 [==============================] - 0s 1ms/step - loss: 0.1574 - accuracy: 0.9572\n",
            "Epoch 31/50\n",
            "123/123 [==============================] - 0s 1ms/step - loss: 0.1569 - accuracy: 0.9572\n",
            "Epoch 32/50\n",
            "123/123 [==============================] - 0s 1ms/step - loss: 0.1564 - accuracy: 0.9572\n",
            "Epoch 33/50\n",
            "123/123 [==============================] - 0s 1ms/step - loss: 0.1558 - accuracy: 0.9572\n",
            "Epoch 34/50\n",
            "123/123 [==============================] - 0s 1ms/step - loss: 0.1553 - accuracy: 0.9572\n",
            "Epoch 35/50\n",
            "123/123 [==============================] - 0s 1ms/step - loss: 0.1549 - accuracy: 0.9572\n",
            "Epoch 36/50\n",
            "123/123 [==============================] - 0s 1ms/step - loss: 0.1544 - accuracy: 0.9572\n",
            "Epoch 37/50\n",
            "123/123 [==============================] - 0s 1ms/step - loss: 0.1540 - accuracy: 0.9572\n",
            "Epoch 38/50\n",
            "123/123 [==============================] - 0s 1ms/step - loss: 0.1536 - accuracy: 0.9572\n",
            "Epoch 39/50\n",
            "123/123 [==============================] - 0s 1ms/step - loss: 0.1532 - accuracy: 0.9572\n",
            "Epoch 40/50\n",
            "123/123 [==============================] - 0s 1ms/step - loss: 0.1528 - accuracy: 0.9572\n",
            "Epoch 41/50\n",
            "123/123 [==============================] - 0s 1ms/step - loss: 0.1524 - accuracy: 0.9572\n",
            "Epoch 42/50\n",
            "123/123 [==============================] - 0s 2ms/step - loss: 0.1520 - accuracy: 0.9572\n",
            "Epoch 43/50\n",
            "123/123 [==============================] - 0s 3ms/step - loss: 0.1516 - accuracy: 0.9572\n",
            "Epoch 44/50\n",
            "123/123 [==============================] - 0s 3ms/step - loss: 0.1512 - accuracy: 0.9572\n",
            "Epoch 45/50\n",
            "123/123 [==============================] - 0s 3ms/step - loss: 0.1509 - accuracy: 0.9572\n",
            "Epoch 46/50\n",
            "123/123 [==============================] - 0s 3ms/step - loss: 0.1505 - accuracy: 0.9572\n",
            "Epoch 47/50\n",
            "123/123 [==============================] - 0s 3ms/step - loss: 0.1502 - accuracy: 0.9572\n",
            "Epoch 48/50\n",
            "123/123 [==============================] - 0s 3ms/step - loss: 0.1499 - accuracy: 0.9572\n",
            "Epoch 49/50\n",
            "123/123 [==============================] - 1s 4ms/step - loss: 0.1496 - accuracy: 0.9572\n",
            "Epoch 50/50\n",
            "123/123 [==============================] - 0s 3ms/step - loss: 0.1493 - accuracy: 0.9572\n"
          ]
        }
      ]
    },
    {
      "cell_type": "markdown",
      "source": [
        "# **Resultados sgd**"
      ],
      "metadata": {
        "id": "xV3IKUhZgf2G"
      }
    },
    {
      "cell_type": "code",
      "source": [
        "loss_sgd, acc_sgd = ann.evaluate(x_test, y_test, verbose =  2) # verbose quantidade de informação\n",
        "\n",
        "loss_sgd, acc_sgd"
      ],
      "metadata": {
        "colab": {
          "base_uri": "https://localhost:8080/"
        },
        "id": "bGk69kC5Wiu5",
        "outputId": "ceb02fd8-cfc0-47d7-c2b5-52bdee2a7c6f"
      },
      "execution_count": null,
      "outputs": [
        {
          "output_type": "stream",
          "name": "stdout",
          "text": [
            "31/31 - 1s - loss: 0.1516 - accuracy: 0.9582 - 725ms/epoch - 23ms/step\n"
          ]
        },
        {
          "output_type": "execute_result",
          "data": {
            "text/plain": [
              "(0.15162046253681183, 0.958248496055603)"
            ]
          },
          "metadata": {},
          "execution_count": 135
        }
      ]
    },
    {
      "cell_type": "code",
      "source": [
        "y_pred = ann.predict(x_test) # Jogando os dados na rede neural que foi treinada\n",
        "y_pred = (y_pred > 0.5)\n",
        "\n",
        "pred_array = 1 * y_pred.reshape(len(y_pred), 1)\n",
        "test_array = y_test.values.reshape(len(y_test), 1)\n",
        "\n",
        "np.concatenate([pred_array, test_array], axis = 1)"
      ],
      "metadata": {
        "colab": {
          "base_uri": "https://localhost:8080/"
        },
        "id": "PCsRAHW0gjNt",
        "outputId": "45777bf4-7616-44b8-cbf4-b9a1a406d5e6"
      },
      "execution_count": null,
      "outputs": [
        {
          "output_type": "execute_result",
          "data": {
            "text/plain": [
              "array([[0, 0],\n",
              "       [0, 0],\n",
              "       [0, 0],\n",
              "       ...,\n",
              "       [0, 0],\n",
              "       [0, 0],\n",
              "       [0, 0]])"
            ]
          },
          "metadata": {},
          "execution_count": 136
        }
      ]
    },
    {
      "cell_type": "code",
      "source": [
        "from sklearn.metrics import confusion_matrix, accuracy_score\n",
        "\n",
        "cm = confusion_matrix(y_test, y_pred) \n",
        "#vn, fp(rede disse que é 1, mas é 0), fn (rede disse que é 0, mas é 1), vp\n",
        "\n",
        "cm"
      ],
      "metadata": {
        "colab": {
          "base_uri": "https://localhost:8080/"
        },
        "id": "RHzvIiQ2jBz5",
        "outputId": "a67ccb29-1e0e-4445-fb4f-7540fb229a04"
      },
      "execution_count": null,
      "outputs": [
        {
          "output_type": "execute_result",
          "data": {
            "text/plain": [
              "array([[941,   0],\n",
              "       [ 41,   0]])"
            ]
          },
          "metadata": {},
          "execution_count": 137
        }
      ]
    },
    {
      "cell_type": "code",
      "source": [
        "accuracy_score(y_test, y_pred)"
      ],
      "metadata": {
        "colab": {
          "base_uri": "https://localhost:8080/"
        },
        "id": "EbBpfolSj30l",
        "outputId": "24410ab0-822f-4577-a27a-cd5a9b9acae8"
      },
      "execution_count": null,
      "outputs": [
        {
          "output_type": "execute_result",
          "data": {
            "text/plain": [
              "0.9582484725050916"
            ]
          },
          "metadata": {},
          "execution_count": 138
        }
      ]
    },
    {
      "cell_type": "code",
      "source": [
        "df['stroke'].value_counts()"
      ],
      "metadata": {
        "colab": {
          "base_uri": "https://localhost:8080/"
        },
        "id": "8DEdT3mgj-_J",
        "outputId": "bf1c4e19-fe65-4c5a-b567-a9ba4177f07a"
      },
      "execution_count": null,
      "outputs": [
        {
          "output_type": "execute_result",
          "data": {
            "text/plain": [
              "0    4700\n",
              "1     209\n",
              "Name: stroke, dtype: int64"
            ]
          },
          "metadata": {},
          "execution_count": 139
        }
      ]
    },
    {
      "cell_type": "markdown",
      "source": [
        "# **Arquitetura de Rede Neural(MLP)**\n",
        "\n",
        "\n",
        "*   **otimizador : adam**\n",
        "*   **kernel_initializer diz como os pesos irao se inicializar**"
      ],
      "metadata": {
        "id": "kfAhm0F6gcTS"
      }
    },
    {
      "cell_type": "code",
      "source": [
        "ann = tf.keras.models.Sequential()\n",
        " \n",
        "ann.add(tf.keras.layers.Dense(units=6, activation='relu', kernel_initializer='he_normal')) # 1º camada oculta he_normal -> curva normal\n",
        "\n",
        "ann.add(tf.keras.layers.Dense(units=6, activation='relu', kernel_initializer='he_normal')) # 2º camada oculta\n",
        "\n",
        "ann.add(tf.keras.layers.Dense(units=1, activation='sigmoid')) # Ultimo neuronio \n",
        "\n",
        "ann.compile(optimizer='adam', loss='binary_crossentropy', metrics=['accuracy'])\n",
        "\n",
        "adam = ann.fit(x_train, y_train, batch_size=32, epochs=50)"
      ],
      "metadata": {
        "colab": {
          "base_uri": "https://localhost:8080/"
        },
        "id": "cJaSrtMugivA",
        "outputId": "b45c249a-66d6-463a-88a3-a9842c43d149"
      },
      "execution_count": null,
      "outputs": [
        {
          "output_type": "stream",
          "name": "stdout",
          "text": [
            "Epoch 1/50\n",
            "123/123 [==============================] - 2s 4ms/step - loss: 0.6174 - accuracy: 0.7484\n",
            "Epoch 2/50\n",
            "123/123 [==============================] - 0s 3ms/step - loss: 0.3939 - accuracy: 0.9516\n",
            "Epoch 3/50\n",
            "123/123 [==============================] - 0s 3ms/step - loss: 0.2528 - accuracy: 0.9572\n",
            "Epoch 4/50\n",
            "123/123 [==============================] - 0s 3ms/step - loss: 0.1941 - accuracy: 0.9572\n",
            "Epoch 5/50\n",
            "123/123 [==============================] - 0s 2ms/step - loss: 0.1742 - accuracy: 0.9572\n",
            "Epoch 6/50\n",
            "123/123 [==============================] - 0s 3ms/step - loss: 0.1653 - accuracy: 0.9572\n",
            "Epoch 7/50\n",
            "123/123 [==============================] - 0s 3ms/step - loss: 0.1598 - accuracy: 0.9572\n",
            "Epoch 8/50\n",
            "123/123 [==============================] - 0s 3ms/step - loss: 0.1559 - accuracy: 0.9572\n",
            "Epoch 9/50\n",
            "123/123 [==============================] - 0s 4ms/step - loss: 0.1528 - accuracy: 0.9572\n",
            "Epoch 10/50\n",
            "123/123 [==============================] - 0s 2ms/step - loss: 0.1505 - accuracy: 0.9572\n",
            "Epoch 11/50\n",
            "123/123 [==============================] - 0s 2ms/step - loss: 0.1486 - accuracy: 0.9572\n",
            "Epoch 12/50\n",
            "123/123 [==============================] - 0s 2ms/step - loss: 0.1473 - accuracy: 0.9572\n",
            "Epoch 13/50\n",
            "123/123 [==============================] - 0s 2ms/step - loss: 0.1460 - accuracy: 0.9572\n",
            "Epoch 14/50\n",
            "123/123 [==============================] - 0s 2ms/step - loss: 0.1449 - accuracy: 0.9572\n",
            "Epoch 15/50\n",
            "123/123 [==============================] - 0s 2ms/step - loss: 0.1441 - accuracy: 0.9572\n",
            "Epoch 16/50\n",
            "123/123 [==============================] - 0s 2ms/step - loss: 0.1433 - accuracy: 0.9572\n",
            "Epoch 17/50\n",
            "123/123 [==============================] - 0s 2ms/step - loss: 0.1426 - accuracy: 0.9572\n",
            "Epoch 18/50\n",
            "123/123 [==============================] - 0s 2ms/step - loss: 0.1420 - accuracy: 0.9572\n",
            "Epoch 19/50\n",
            "123/123 [==============================] - 0s 1ms/step - loss: 0.1415 - accuracy: 0.9572\n",
            "Epoch 20/50\n",
            "123/123 [==============================] - 0s 2ms/step - loss: 0.1409 - accuracy: 0.9572\n",
            "Epoch 21/50\n",
            "123/123 [==============================] - 0s 2ms/step - loss: 0.1405 - accuracy: 0.9572\n",
            "Epoch 22/50\n",
            "123/123 [==============================] - 0s 2ms/step - loss: 0.1401 - accuracy: 0.9572\n",
            "Epoch 23/50\n",
            "123/123 [==============================] - 0s 2ms/step - loss: 0.1395 - accuracy: 0.9572\n",
            "Epoch 24/50\n",
            "123/123 [==============================] - 0s 2ms/step - loss: 0.1390 - accuracy: 0.9572\n",
            "Epoch 25/50\n",
            "123/123 [==============================] - 0s 2ms/step - loss: 0.1388 - accuracy: 0.9572\n",
            "Epoch 26/50\n",
            "123/123 [==============================] - 0s 2ms/step - loss: 0.1381 - accuracy: 0.9572\n",
            "Epoch 27/50\n",
            "123/123 [==============================] - 0s 2ms/step - loss: 0.1378 - accuracy: 0.9572\n",
            "Epoch 28/50\n",
            "123/123 [==============================] - 0s 2ms/step - loss: 0.1374 - accuracy: 0.9572\n",
            "Epoch 29/50\n",
            "123/123 [==============================] - 0s 2ms/step - loss: 0.1370 - accuracy: 0.9572\n",
            "Epoch 30/50\n",
            "123/123 [==============================] - 0s 2ms/step - loss: 0.1367 - accuracy: 0.9572\n",
            "Epoch 31/50\n",
            "123/123 [==============================] - 0s 2ms/step - loss: 0.1363 - accuracy: 0.9572\n",
            "Epoch 32/50\n",
            "123/123 [==============================] - 0s 2ms/step - loss: 0.1361 - accuracy: 0.9572\n",
            "Epoch 33/50\n",
            "123/123 [==============================] - 0s 2ms/step - loss: 0.1357 - accuracy: 0.9572\n",
            "Epoch 34/50\n",
            "123/123 [==============================] - 0s 2ms/step - loss: 0.1355 - accuracy: 0.9572\n",
            "Epoch 35/50\n",
            "123/123 [==============================] - 0s 2ms/step - loss: 0.1354 - accuracy: 0.9572\n",
            "Epoch 36/50\n",
            "123/123 [==============================] - 0s 2ms/step - loss: 0.1350 - accuracy: 0.9572\n",
            "Epoch 37/50\n",
            "123/123 [==============================] - 0s 2ms/step - loss: 0.1349 - accuracy: 0.9572\n",
            "Epoch 38/50\n",
            "123/123 [==============================] - 0s 2ms/step - loss: 0.1348 - accuracy: 0.9572\n",
            "Epoch 39/50\n",
            "123/123 [==============================] - 0s 2ms/step - loss: 0.1347 - accuracy: 0.9572\n",
            "Epoch 40/50\n",
            "123/123 [==============================] - 0s 2ms/step - loss: 0.1343 - accuracy: 0.9572\n",
            "Epoch 41/50\n",
            "123/123 [==============================] - 0s 2ms/step - loss: 0.1341 - accuracy: 0.9572\n",
            "Epoch 42/50\n",
            "123/123 [==============================] - 0s 2ms/step - loss: 0.1338 - accuracy: 0.9572\n",
            "Epoch 43/50\n",
            "123/123 [==============================] - 0s 2ms/step - loss: 0.1338 - accuracy: 0.9572\n",
            "Epoch 44/50\n",
            "123/123 [==============================] - 0s 2ms/step - loss: 0.1337 - accuracy: 0.9572\n",
            "Epoch 45/50\n",
            "123/123 [==============================] - 0s 2ms/step - loss: 0.1334 - accuracy: 0.9572\n",
            "Epoch 46/50\n",
            "123/123 [==============================] - 0s 2ms/step - loss: 0.1332 - accuracy: 0.9572\n",
            "Epoch 47/50\n",
            "123/123 [==============================] - 0s 1ms/step - loss: 0.1330 - accuracy: 0.9572\n",
            "Epoch 48/50\n",
            "123/123 [==============================] - 0s 2ms/step - loss: 0.1329 - accuracy: 0.9572\n",
            "Epoch 49/50\n",
            "123/123 [==============================] - 0s 1ms/step - loss: 0.1326 - accuracy: 0.9572\n",
            "Epoch 50/50\n",
            "123/123 [==============================] - 0s 2ms/step - loss: 0.1325 - accuracy: 0.9572\n"
          ]
        }
      ]
    },
    {
      "cell_type": "markdown",
      "source": [
        "# **Resultado adam**"
      ],
      "metadata": {
        "id": "V789DaIkkOHP"
      }
    },
    {
      "cell_type": "code",
      "source": [
        "loss_adam, acc_adam = ann.evaluate(x_test, y_test, verbose =  2) # verbose quantidade de informação\n",
        "\n",
        "loss_adam, acc_adam"
      ],
      "metadata": {
        "colab": {
          "base_uri": "https://localhost:8080/"
        },
        "id": "wnDfQV3zkSZe",
        "outputId": "e6c57cc1-39e2-416a-a2e3-6b2668c6fd55"
      },
      "execution_count": null,
      "outputs": [
        {
          "output_type": "stream",
          "name": "stdout",
          "text": [
            "31/31 - 0s - loss: 0.1520 - accuracy: 0.9582 - 150ms/epoch - 5ms/step\n"
          ]
        },
        {
          "output_type": "execute_result",
          "data": {
            "text/plain": [
              "(0.15196684002876282, 0.958248496055603)"
            ]
          },
          "metadata": {},
          "execution_count": 141
        }
      ]
    },
    {
      "cell_type": "code",
      "source": [
        "y_pred = ann.predict(x_test) # Jogando os dados na rede neural que foi treinada\n",
        "y_pred = (y_pred > 0.5)\n",
        "\n",
        "pred_array = 1 * y_pred.reshape(len(y_pred), 1)\n",
        "test_array = y_test.values.reshape(len(y_test), 1)\n",
        "\n",
        "np.concatenate([pred_array, test_array], axis = 1)"
      ],
      "metadata": {
        "colab": {
          "base_uri": "https://localhost:8080/"
        },
        "id": "N2yiag2HkfG5",
        "outputId": "9462113e-f68d-418e-bac8-1eb0723cbbe7"
      },
      "execution_count": null,
      "outputs": [
        {
          "output_type": "execute_result",
          "data": {
            "text/plain": [
              "array([[0, 0],\n",
              "       [0, 0],\n",
              "       [0, 0],\n",
              "       ...,\n",
              "       [0, 0],\n",
              "       [0, 0],\n",
              "       [0, 0]])"
            ]
          },
          "metadata": {},
          "execution_count": 142
        }
      ]
    },
    {
      "cell_type": "markdown",
      "source": [
        "# **sgd vs adam**"
      ],
      "metadata": {
        "id": "NS4eJeUehzNP"
      }
    },
    {
      "cell_type": "code",
      "source": [
        "import matplotlib.pyplot as plt\n",
        "fig, ax = plt.subplots()\n",
        "\n",
        "ax.plot(sgd.history['accuracy'])\n",
        "ax.plot(adam.history['accuracy'])\n",
        "ax.set_xlim(0, 20)\n",
        "ax.set_ylim(0.90, 0.98)\n",
        "plt.title('Treino')\n",
        "plt.ylabel('acurácia')\n",
        "plt.xlabel('épocas')\n",
        "plt.legend(['acurácia_sgd', 'acurácia_adam'], loc='lower right')\n",
        "plt.show()"
      ],
      "metadata": {
        "colab": {
          "base_uri": "https://localhost:8080/",
          "height": 296
        },
        "id": "mGNRI3jXk69g",
        "outputId": "b6e99444-bb32-4cbf-f748-c9b681875265"
      },
      "execution_count": null,
      "outputs": [
        {
          "output_type": "display_data",
          "data": {
            "text/plain": [
              "<Figure size 432x288 with 1 Axes>"
            ],
            "image/png": "[encoded data removed]"
          },
          "metadata": {
            "needs_background": "light"
          }
        }
      ]
    },
    {
      "cell_type": "code",
      "source": [
        "plt.plot(sgd.history['loss'])\n",
        "plt.plot(adam.history['loss'])\n",
        "plt.title('Treino')\n",
        "plt.ylabel('acurácia/loss')\n",
        "plt.xlabel('épocas')\n",
        "plt.legend(['loss_sgd', 'loss_adam'], loc='center right')\n",
        "plt.show()"
      ],
      "metadata": {
        "colab": {
          "base_uri": "https://localhost:8080/",
          "height": 296
        },
        "id": "LWPS75vdlI7U",
        "outputId": "1b70704f-717c-4ad5-bbef-796a045d98cd"
      },
      "execution_count": null,
      "outputs": [
        {
          "output_type": "display_data",
          "data": {
            "text/plain": [
              "<Figure size 432x288 with 1 Axes>"
            ],
            "image/png": "[encoded data removed]"
          },
          "metadata": {
            "needs_background": "light"
          }
        }
      ]
    }
  ]
}